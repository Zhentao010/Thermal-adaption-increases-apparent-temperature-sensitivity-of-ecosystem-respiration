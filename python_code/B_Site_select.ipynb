{
 "cells": [
  {
   "cell_type": "code",
   "execution_count": 2,
   "id": "57c9596a-d7a8-4ddf-ac1d-f895804c0814",
   "metadata": {},
   "outputs": [],
   "source": [
    "import os"
   ]
  },
  {
   "cell_type": "code",
   "execution_count": null,
   "id": "23fa074d-07ef-4424-91af-b4e228c73adc",
   "metadata": {},
   "outputs": [],
   "source": [
    "data"
   ]
  },
  {
   "cell_type": "code",
   "execution_count": 3,
   "id": "91712b11-ef77-4eec-9588-b0dfaa583c23",
   "metadata": {},
   "outputs": [],
   "source": [
    "path = 'D:/Data/Fluxnet/All_hourly_data/'\n",
    "\n",
    "AMF = []\n",
    "AMF_year = []\n",
    "AMF_len = []\n",
    "FLX = []\n",
    "FLX_year = []\n",
    "FLX_len = []\n",
    "for csv_file in os.listdir(path):\n",
    "    if csv_file[0] == 'A':\n",
    "        AMF.append(csv_file[4:10])\n",
    "        AMF_year.append(int(csv_file[35:39]))\n",
    "        AMF_len.append(int(csv_file[35:39])-int(csv_file[30:34]))\n",
    "    else:\n",
    "        FLX.append(csv_file[4:10])\n",
    "        FLX_year.append(int(csv_file[39:43]))\n",
    "        FLX_len.append(int(csv_file[39:43])-int(csv_file[34:38]))"
   ]
  },
  {
   "cell_type": "code",
   "execution_count": null,
   "id": "fff72661-096e-40e2-ab7d-1c884e706cb9",
   "metadata": {},
   "outputs": [],
   "source": [
    "import numpy as np"
   ]
  },
  {
   "cell_type": "code",
   "execution_count": 14,
   "id": "b9330119-f51a-484c-841d-e6bf563a636a",
   "metadata": {},
   "outputs": [
    {
     "name": "stdout",
     "output_type": "stream",
     "text": [
      "12\n"
     ]
    },
    {
     "data": {
      "text/plain": [
       "array([2014, 2014, 2014, 2014, 2014, 2014, 2014, 2013, 2014, 2014, 2014,\n",
       "       2014])"
      ]
     },
     "execution_count": 14,
     "metadata": {},
     "output_type": "execute_result"
    }
   ],
   "source": [
    "a = np.array(FLX_len)\n",
    "b = np.array(FLX_year)\n",
    "print(len(a[(a>=15)]))\n",
    "b[(a>=15)]"
   ]
  },
  {
   "cell_type": "code",
   "execution_count": 14,
   "id": "fac02170-63dd-4968-aaa1-854185a770b2",
   "metadata": {},
   "outputs": [
    {
     "name": "stdout",
     "output_type": "stream",
     "text": [
      "CA-Gro    2014    2014    0\n",
      "CA-SF1    2006    2006    0\n",
      "CA-TP3    2017    2014    3\n",
      "CA-TPD    2017    2014    3\n",
      "US-ARM    2020    2012    8\n",
      "US-GLE    2020    2014    5\n",
      "US-Ha1    2020    2012    8\n",
      "US-Me1    2005    2005    0\n",
      "US-Me2    2020    2014    6\n",
      "US-Me3    2009    2009    0\n",
      "US-MMS    2020    2014    6\n",
      "US-Myb    2021    2014    7\n",
      "US-Ne1    2020    2013    7\n",
      "US-NR1    2016    2014    2\n",
      "US-ORv    2016    2011    5\n",
      "US-SRC    2014    2014    0\n",
      "US-Tw1    2020    2014    7\n",
      "US-Tw2    2013    2013    0\n",
      "US-Tw3    2018    2014    4\n",
      "US-UMd    2021    2014    7\n",
      "US-Var    2021    2014    7\n",
      "US-Whs    2020    2014    6\n",
      "US-Wkg    2021    2014    7\n"
     ]
    }
   ],
   "source": [
    "for i in range(len(AMF)):\n",
    "    for j in range(len(FLX)):\n",
    "        if AMF[i] == FLX[j]:\n",
    "            print(AMF[i], '  ',AMF_year[i], '  ', FLX_year[j], '  ', AMF_len[i]-FLX_len[j]  )"
   ]
  },
  {
   "cell_type": "code",
   "execution_count": 2,
   "id": "446ba814-7a3f-4582-832b-7f326e856b88",
   "metadata": {
    "collapsed": true,
    "jupyter": {
     "outputs_hidden": true
    },
    "tags": []
   },
   "outputs": [
    {
     "name": "stdout",
     "output_type": "stream",
     "text": [
      "AR-TF1\n",
      "CA-ARB\n",
      "CA-ARF\n",
      "CA-DB2\n",
      "CA-DBB\n",
      "PE-QFR\n",
      "US-BZB\n",
      "US-BZF\n",
      "US-BZo\n",
      "US-EDN\n",
      "US-HB1\n",
      "US-ICs\n",
      "US-KS3\n",
      "US-Myb\n",
      "US-NC4\n",
      "US-ORv\n",
      "US-OWC\n",
      "US-Tw1\n",
      "US-Tw5\n",
      "AU-Fog\n",
      "CN-Ha2\n",
      "CZ-wet\n",
      "DE-Akm\n",
      "DE-SfN\n",
      "DE-Spw\n",
      "DE-Zrk\n",
      "GL-NuF\n",
      "GL-ZaF\n",
      "RU-Che\n",
      "SJ-Adv\n",
      "US-Atq\n",
      "US-Ivo\n",
      "US-Los\n",
      "US-Tw4\n",
      "US-WPT\n"
     ]
    }
   ],
   "source": [
    "import os\n",
    "import pandas as pd\n",
    "\n",
    "type_data = pd.read_csv('./Site_igbp.csv', encoding='latin-1')\n",
    "site_IGBP = type_data['igbp'].values\n",
    "site_lat = type_data['lat'].values\n",
    "site_ID =  type_data['site'].values\n",
    "\n",
    "\n",
    "path = 'D:/Data/Fluxnet/All_hourly_data/'\n",
    "for csv_file in os.listdir(path):\n",
    "    if site_IGBP[(site_ID == csv_file[4:10])] == 'WET':\n",
    "        print(csv_file[4:10])"
   ]
  },
  {
   "cell_type": "code",
   "execution_count": 35,
   "id": "5568dfcc-51db-4b21-90b1-0798cd8c029b",
   "metadata": {},
   "outputs": [],
   "source": []
  },
  {
   "cell_type": "code",
   "execution_count": 3,
   "id": "e005761f-e18d-45f9-8dba-3c69d642abb3",
   "metadata": {},
   "outputs": [],
   "source": [
    "import os\n",
    "import pandas as pd\n",
    "import numpy as np\n",
    "data1 = pd.read_excel('D:/Data/Fluxnet/AMF_AA-Net_BIF_CCBY4_20230922.xlsx')\n",
    "data2 = pd.read_excel('D:/Data/Fluxnet/FLX_AA-Flx_BIF_HH_20200501.xlsx')"
   ]
  },
  {
   "cell_type": "code",
   "execution_count": 25,
   "id": "98821ebf-4731-40b9-ab26-02e0e22218ca",
   "metadata": {},
   "outputs": [],
   "source": [
    "site = ['site']\n",
    "igbp = ['igbp']\n",
    "m1,n1 = data1.shape\n",
    "m2,n2 = data2.shape\n",
    "for i in range(m1):\n",
    "    if data1['VARIABLE'][i] == 'IGBP' and data1['SITE_ID'][i] not in site:\n",
    "        site.append(data1['SITE_ID'][i])\n",
    "        igbp.append(data1['DATAVALUE'][i])\n",
    "for i in range(m2):\n",
    "    if data2['VARIABLE'][i] == 'IGBP' and data2['SITE_ID'][i] not in site:\n",
    "        site.append(data2['SITE_ID'][i])\n",
    "        igbp.append(data2['DATAVALUE'][i])\n",
    "        \n",
    "\n",
    "site2 = ['site']\n",
    "lat = ['lat']\n",
    "m1,n1 = data1.shape\n",
    "m2,n2 = data2.shape\n",
    "for i in range(m1):\n",
    "    if data1['VARIABLE'][i] == 'LOCATION_LAT' and data1['SITE_ID'][i] not in site2:\n",
    "        site2.append(data1['SITE_ID'][i])\n",
    "        lat.append(data1['DATAVALUE'][i])\n",
    "for i in range(m2):\n",
    "    if data2['VARIABLE'][i] == 'LOCATION_LAT' and data2['SITE_ID'][i] not in site2:\n",
    "        site2.append(data2['SITE_ID'][i])\n",
    "        lat.append(data2['DATAVALUE'][i])\n",
    "\n",
    "\n",
    "site3 = ['site']\n",
    "lon = ['lon']\n",
    "m1,n1 = data1.shape\n",
    "m2,n2 = data2.shape\n",
    "for i in range(m1):\n",
    "    if data1['VARIABLE'][i] == 'LOCATION_LONG' and data1['SITE_ID'][i] not in site3:\n",
    "        site3.append(data1['SITE_ID'][i])\n",
    "        lon.append(data1['DATAVALUE'][i])\n",
    "for i in range(m2):\n",
    "    if data2['VARIABLE'][i] == 'LOCATION_LONG' and data2['SITE_ID'][i] not in site3:\n",
    "        site3.append(data2['SITE_ID'][i])\n",
    "        lon.append(data2['DATAVALUE'][i])\n",
    "\n",
    "\n",
    "\n",
    "result = np.array([site, lat, lon, igbp])\n",
    "result_pd = pd.DataFrame(result.T)\n",
    "save_path = './Site_igbp.csv'\n",
    "result_pd.to_csv(save_path, index= 'a', header= False)"
   ]
  },
  {
   "cell_type": "code",
   "execution_count": 26,
   "id": "b07f98f2-8e5c-4515-80cb-669f541e91f5",
   "metadata": {},
   "outputs": [],
   "source": [
    "site4 = ['site']\n",
    "climate = ['climate']\n",
    "m1,n1 = data1.shape\n",
    "m2,n2 = data2.shape\n",
    "for i in range(m1):\n",
    "    if data1['VARIABLE'][i] == 'CLIMATE_KOEPPEN' and data1['SITE_ID'][i] not in site4:\n",
    "        site4.append(data1['SITE_ID'][i])\n",
    "        climate.append(data1['DATAVALUE'][i])\n",
    "for i in range(m2):\n",
    "    if data2['VARIABLE'][i] == 'CLIMATE_KOEPPEN' and data2['SITE_ID'][i] not in site4:\n",
    "        site4.append(data2['SITE_ID'][i])\n",
    "        climate.append(data2['DATAVALUE'][i])\n",
    "\n",
    "\n",
    "result = np.array([site4, climate])\n",
    "result_pd = pd.DataFrame(result.T)\n",
    "save_path = './Site_climate.csv'\n",
    "result_pd.to_csv(save_path, index= 'a', header= False)"
   ]
  },
  {
   "cell_type": "code",
   "execution_count": 21,
   "id": "5002785a-fc8c-48bf-a35f-34095c323607",
   "metadata": {},
   "outputs": [
    {
     "data": {
      "text/plain": [
       "586"
      ]
     },
     "execution_count": 21,
     "metadata": {},
     "output_type": "execute_result"
    }
   ],
   "source": [
    "len(igbp)"
   ]
  },
  {
   "cell_type": "code",
   "execution_count": 23,
   "id": "a2869f5f-80f6-4cf4-b971-35f7ad92b95b",
   "metadata": {},
   "outputs": [
    {
     "data": {
      "text/plain": [
       "586"
      ]
     },
     "execution_count": 23,
     "metadata": {},
     "output_type": "execute_result"
    }
   ],
   "source": [
    "len(lat)"
   ]
  },
  {
   "cell_type": "code",
   "execution_count": 13,
   "id": "ce3a9f37-0a11-44af-af2c-f7441de8a8d8",
   "metadata": {},
   "outputs": [
    {
     "data": {
      "text/plain": [
       "437"
      ]
     },
     "execution_count": 13,
     "metadata": {},
     "output_type": "execute_result"
    }
   ],
   "source": [
    "np.sum(data1['VARIABLE']=='CLIMATE_KOEPPEN')"
   ]
  },
  {
   "cell_type": "code",
   "execution_count": 14,
   "id": "5f1f0bb0-7fab-49b5-a6da-7c4fb3be0e64",
   "metadata": {},
   "outputs": [
    {
     "data": {
      "text/plain": [
       "['climate']"
      ]
     },
     "execution_count": 14,
     "metadata": {},
     "output_type": "execute_result"
    }
   ],
   "source": [
    "climate"
   ]
  },
  {
   "cell_type": "code",
   "execution_count": null,
   "id": "e6f3ee18-7abb-42ce-b010-33a1628faa1e",
   "metadata": {},
   "outputs": [],
   "source": []
  }
 ],
 "metadata": {
  "kernelspec": {
   "display_name": "Python 3 (ipykernel)",
   "language": "python",
   "name": "python3"
  },
  "language_info": {
   "codemirror_mode": {
    "name": "ipython",
    "version": 3
   },
   "file_extension": ".py",
   "mimetype": "text/x-python",
   "name": "python",
   "nbconvert_exporter": "python",
   "pygments_lexer": "ipython3",
   "version": "3.9.16"
  }
 },
 "nbformat": 4,
 "nbformat_minor": 5
}
