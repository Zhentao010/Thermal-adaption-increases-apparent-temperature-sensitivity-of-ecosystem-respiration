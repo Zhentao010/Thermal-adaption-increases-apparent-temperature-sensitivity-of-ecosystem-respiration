{
 "cells": [
  {
   "cell_type": "code",
   "execution_count": 1,
   "id": "50398c0d-9481-4c7a-b52a-57c9800c6765",
   "metadata": {},
   "outputs": [],
   "source": [
    "import multiprocessing\n",
    "import numpy as np\n",
    "import xarray as xr\n",
    "import os\n",
    "import pandas as pd\n",
    "import netCDF4 as nc\n",
    "import matplotlib as mpl\n",
    "import matplotlib.pyplot as plt\n",
    "import statsmodels.api as sm\n",
    "from scipy.stats import pearsonr\n",
    "from scipy.stats import linregress\n",
    "from scipy.optimize import curve_fit\n",
    "import math"
   ]
  },
  {
   "cell_type": "code",
   "execution_count": null,
   "id": "b7d54c45-68b1-4d73-96a4-a81ab8ac9bcd",
   "metadata": {},
   "outputs": [],
   "source": [
    "#T_effect_Q10"
   ]
  },
  {
   "cell_type": "code",
   "execution_count": 2,
   "id": "302df184",
   "metadata": {
    "tags": []
   },
   "outputs": [],
   "source": [
    "path1 = 'D:Data/Fluxnet/All_hourly_data/'\n",
    "\n",
    "days = 10\n",
    "\n",
    "for csv_file1 in os.listdir(path1):\n",
    "    for Ti in np.arange(-10,35,2):\n",
    "        ln_R_all = ['lnR']\n",
    "        normalized_T_all = ['normalized_T']\n",
    "        num_all = ['num']\n",
    "        numi = 0\n",
    "        \n",
    "        if csv_file1[0] == 'F':\n",
    "            if csv_file1[31:33] =='HH':\n",
    "                hours = 48\n",
    "            else:\n",
    "                hours = 24\n",
    "        else:\n",
    "            if csv_file1[27:29] =='HH':\n",
    "                hours = 48\n",
    "            else:\n",
    "                hours = 24\n",
    "        \n",
    "        data1 = pd.read_csv(path1+csv_file1)\n",
    "        m,n = data1.shape\n",
    "        hour = (data1['TIMESTAMP_START']%10000).astype(int)\n",
    "        \n",
    "        for i in range(int(m/hours/days)-1):\n",
    "            houri = hour[i*days*hours:(i+1)*days*hours]\n",
    "            Ti_0 = data1['TA_F_MDS'].values[i*days*hours:(i+1)*days*hours][(houri>=1900) | (houri<=700)]\n",
    "            RECOi_0 = data1['RECO_NT_VUT_REF'].values[i*days*hours:(i+1)*days*hours][(houri>=1900) | (houri<=700)]\n",
    "            T_QCi_0 = data1['TA_F_MDS_QC'].values[i*days*hours:(i+1)*days*hours][(houri>=1900) | (houri<=700)]              \n",
    "            Ti_1 = Ti_0[(Ti_0!=-9999) & (RECOi_0!=-9999) & (RECOi_0>0.01) & (T_QCi_0==0)]                        \n",
    "            RECOi_1 = RECOi_0[(Ti_0!=-9999)& (RECOi_0!=-9999) & (RECOi_0>0.01) & (T_QCi_0==0)]        \n",
    "            if len(Ti_1) > 100:\n",
    "                numi+=1\n",
    "                Normal_Ti_1 = (Ti_1-10)/10\n",
    "                ln_RECOi_1 = np.log(RECOi_1)\n",
    "                                        \n",
    "                Normal_T_ik = Normal_Ti_1[(Ti_1>=Ti-5) & (Ti_1<Ti+5)]\n",
    "                ln_R_ik   =   ln_RECOi_1[(Ti_1>=Ti-5) & (Ti_1<Ti+5)]\n",
    "                T_ik   =   Ti_1[(Ti_1>=Ti-5) & (Ti_1<Ti+5)]\n",
    "                num_ik = np.zeros((len(Normal_T_ik)))\n",
    "                num_ik[:] = numi\n",
    "                                        \n",
    "                if len(Normal_T_ik)>=15:\n",
    "                    T_ik_85th = np.percentile(T_ik,90)\n",
    "                    T_ik_15th = np.percentile(T_ik,10)\n",
    "                    if T_ik_85th-T_ik_15th>6:\n",
    "                        normalized_T_all+=Normal_T_ik.tolist()\n",
    "                        ln_R_all+=ln_R_ik.tolist()\n",
    "                        num_all+=num_ik.tolist()\n",
    "    \n",
    "        result = np.array([normalized_T_all, ln_R_all, num_all])\n",
    "        result_pd = pd.DataFrame(result.T)\n",
    "        \n",
    "        folder_path = 'D:/RECO_T_sensitivity/T_sensitivity_data/LMX_data_T_effect_result3_nighttime/'+csv_file1[4:10]  # 替换为你想要创建文件夹的路径\n",
    "        # 使用os模块的makedirs函数创建文件夹，设置exist_ok=True可以覆盖已存在的文件夹\n",
    "        os.makedirs(folder_path, exist_ok=True)\n",
    "        \n",
    "        save_path = 'D:/RECO_T_sensitivity/T_sensitivity_data/LMX_data_T_effect_result3_nighttime/'+csv_file1[4:10]+'/'+csv_file1[4:10]+'_'+str(Ti)+'.csv'\n",
    "        result_pd.to_csv(save_path, index= 'a', header= False)"
   ]
  },
  {
   "cell_type": "code",
   "execution_count": null,
   "id": "4c7f2264-97a4-4084-b6c2-68f67cbc7a52",
   "metadata": {},
   "outputs": [],
   "source": []
  },
  {
   "cell_type": "code",
   "execution_count": null,
   "id": "dca48ff7-0882-4376-82cc-a681c7292344",
   "metadata": {},
   "outputs": [],
   "source": []
  },
  {
   "cell_type": "code",
   "execution_count": null,
   "id": "d51aca25-09c7-4742-ab94-abb6e3e4ef82",
   "metadata": {},
   "outputs": [],
   "source": [
    "#No_T_effect_each_year_Q10"
   ]
  },
  {
   "cell_type": "code",
   "execution_count": 12,
   "id": "98d2e974-503a-4a8f-93fd-65e7de051935",
   "metadata": {},
   "outputs": [],
   "source": [
    "path1 = 'D:Data/Fluxnet/AllHourlyData_year3/'\n",
    "\n",
    "days = 10\n",
    "\n",
    "for csv_file1 in os.listdir(path1):\n",
    "    if 1:\n",
    "        \n",
    "        if csv_file1[31:33] =='HH':\n",
    "            hours = 48\n",
    "        else:\n",
    "            hours = 24\n",
    "            \n",
    "        data = pd.read_csv(path1+csv_file1)\n",
    "\n",
    "        year = (data['TIMESTAMP_START']/100000000).astype(int)\n",
    "        month = np.round(data['TIMESTAMP_START']/1000000).astype(int)%100\n",
    "        unique_values = np.unique(year)\n",
    "        m,n = data1.shape\n",
    "        \n",
    "        for i in range(len(unique_values)):\n",
    "            \n",
    "            ln_R_all = ['lnR']\n",
    "            normalized_T_all = ['normalized_T']\n",
    "            num_all = ['num']\n",
    "            numj = 0\n",
    "            \n",
    "            Ti_0 = data['TA_F_MDS'].values\n",
    "            RECOi_0 = data['RECO_NT_VUT_REF'].values\n",
    "            T_QCi_0 = data['TA_F_MDS_QC'].values\n",
    "            \n",
    "            Ti = Ti_0[(year==unique_values[i])]       \n",
    "            T_QCi = T_QCi_0[(year==unique_values[i])]\n",
    "            RECOi = RECOi_0[(year==unique_values[i])]\n",
    "            m = len(Ti)\n",
    "            \n",
    "            if m > hours*320:\n",
    "                for j in range(int(m/hours/days)-1):\n",
    "                    Tj = Ti[i*days*hours:(j+1)*days*hours]\n",
    "                    T_QCj = T_QCi[i*days*hours:(j+1)*days*hours]\n",
    "                    RECOj = RECOi[i*days*hours:(j+1)*days*hours]\n",
    "                \n",
    "                    Tj_1 = Tj[(Tj!=-9999) & (RECOj!=-9999) & (RECOj>0.001) & (T_QCj==0)]\n",
    "                    RECOj_1 = RECOj[(Tj!=-9999) & (RECOj!=-9999) & (RECOj>0.001) & (T_QCj==0)]\n",
    "            \n",
    "            \n",
    "                    if len(Tj_1) > hours*days*0.9:\n",
    "                        numj+=1\n",
    "                        Normal_Tj_1 = (Tj_1-10)/10\n",
    "                        ln_RECOj_1 = np.log(RECOj_1)          \n",
    "                        num_jk = np.zeros((len(Normal_Tj_1)))\n",
    "                        num_jk[:] = numj       \n",
    "                        normalized_T_all+=Normal_Tj_1.tolist()\n",
    "                        ln_R_all+=ln_RECOj_1.tolist()\n",
    "                        num_all+=num_jk.tolist()\n",
    "            \n",
    "                result = np.array([normalized_T_all, ln_R_all, num_all])\n",
    "                result_pd = pd.DataFrame(result.T)\n",
    "        \n",
    "                folder_path = 'D:/RECO_T_sensitivity/T_sensitivity_data/LMX_data_No_T_effect_result2/'+csv_file1[4:10]  # 替换为你想要创建文件夹的路径\n",
    "                # 使用os模块的makedirs函数创建文件夹，设置exist_ok=True可以覆盖已存在的文件夹\n",
    "                os.makedirs(folder_path, exist_ok=True)\n",
    "        \n",
    "                save_path = 'D:/RECO_T_sensitivity/T_sensitivity_data/LMX_data_No_T_effect_result2/'+csv_file1[4:10]+'/'+csv_file1[4:10]+'_'+str(unique_values[i])+'.csv'\n",
    "                result_pd.to_csv(save_path, index= 'a', header= False)"
   ]
  },
  {
   "cell_type": "code",
   "execution_count": null,
   "id": "2d259b10-9877-48ae-8c18-3874cf5afc4a",
   "metadata": {},
   "outputs": [],
   "source": []
  },
  {
   "cell_type": "code",
   "execution_count": 35,
   "id": "dcff4566-e471-4d11-8634-fe0f45f39e4e",
   "metadata": {},
   "outputs": [],
   "source": [
    "data = pd.read_csv('D:Data/Fluxnet/AllHourlyData_year3/FLX_DE-Kli_FLUXNET2015_FULLSET_HH_2004-2014_1-4.csv')\n",
    "\n",
    "year = (data['TIMESTAMP_START']/100000000).astype(int)\n",
    "month = np.round(data['TIMESTAMP_START']/1000000).astype(int)%100\n",
    "unique_values = np.unique(year)\n",
    "m,n = data1.shape\n",
    "        \n",
    "ln_R_all = ['lnR']\n",
    "normalized_T_all = ['normalized_T']\n",
    "num_all = ['num']\n",
    "numj = 0\n",
    "            \n",
    "Ti_0 = data['TA_F_MDS'].values\n",
    "RECOi_0 = data['RECO_NT_VUT_REF'].values\n",
    "T_QCi_0 = data['TA_F_MDS_QC'].values\n",
    "\n",
    "i=4\n",
    "\n",
    "Ti = Ti_0[(year==unique_values[i])]       \n",
    "T_QCi = T_QCi_0[(year==unique_values[i])]\n",
    "RECOi = RECOi_0[(year==unique_values[i])]\n",
    "\n",
    "Tj_1 = Ti[(Ti!=-9999) & (RECOi!=-9999) & (RECOi>0.001) & (T_QCi==0)]\n",
    "RECOj_1 = RECOi[(Ti!=-9999) & (RECOi!=-9999) & (RECOi>0.001) & (T_QCi==0)]\n",
    "            \n",
    "Normal_Tj_1 = (Tj_1-10)/10\n",
    "ln_RECOj_1 = np.log(RECOj_1)          "
   ]
  },
  {
   "cell_type": "code",
   "execution_count": 36,
   "id": "a311953c-3bb5-41c5-be47-1e749c773f40",
   "metadata": {},
   "outputs": [
    {
     "name": "stderr",
     "output_type": "stream",
     "text": [
      "C:\\Users\\111\\AppData\\Local\\Temp\\ipykernel_14012\\1194212298.py:8: MatplotlibDeprecationWarning: The get_cmap function was deprecated in Matplotlib 3.7 and will be removed two minor releases later. Use ``matplotlib.colormaps[name]`` or ``matplotlib.colormaps.get_cmap(obj)`` instead.\n",
      "  cm = plt.cm.get_cmap('Blues')\n"
     ]
    },
    {
     "data": {
      "text/plain": [
       "<Axes: >"
      ]
     },
     "execution_count": 36,
     "metadata": {},
     "output_type": "execute_result"
    },
    {
     "data": {
      "image/png": "[encoded data removed]",
      "text/plain": [
       "<Figure size 400x400 with 1 Axes>"
      ]
     },
     "metadata": {},
     "output_type": "display_data"
    }
   ],
   "source": [
    "import seaborn as sns\n",
    "fig = plt.figure(figsize=(4, 4),dpi=100)\n",
    "plt.subplots_adjust(left=None, bottom=None, right=None, top=None, wspace=0.5, hspace=0.4)\n",
    "plt.rcParams['axes.unicode_minus'] = True\n",
    "plt.rcParams['axes.linewidth'] = 0.8\n",
    "\n",
    "ax = fig.add_subplot(1,1,1)\n",
    "cm = plt.cm.get_cmap('Blues')\n",
    "\n",
    "ax.scatter(Normal_Tj_1, ln_RECOj_1, s=1)\n",
    "\n",
    "sns.regplot(x=Normal_Tj_1, y=ln_RECOj_1, ci=95, color='navy', scatter= False, line_kws={'linewidth':2}, label = 'r = 0.49  p = 1.49×10$^{\\u221257}$')\n"
   ]
  },
  {
   "cell_type": "code",
   "execution_count": 21,
   "id": "99b541a5-069c-4f6e-ba93-005c65ba7331",
   "metadata": {},
   "outputs": [
    {
     "data": {
      "text/plain": [
       "array([], dtype=float64)"
      ]
     },
     "execution_count": 21,
     "metadata": {},
     "output_type": "execute_result"
    }
   ],
   "source": [
    "Normal_Tj_1"
   ]
  },
  {
   "cell_type": "code",
   "execution_count": null,
   "id": "575d11ce-e8f5-4473-b54a-2854a83aa71d",
   "metadata": {},
   "outputs": [],
   "source": []
  }
 ],
 "metadata": {
  "kernelspec": {
   "display_name": "Python 3 (ipykernel)",
   "language": "python",
   "name": "python3"
  },
  "language_info": {
   "codemirror_mode": {
    "name": "ipython",
    "version": 3
   },
   "file_extension": ".py",
   "mimetype": "text/x-python",
   "name": "python",
   "nbconvert_exporter": "python",
   "pygments_lexer": "ipython3",
   "version": "3.9.16"
  }
 },
 "nbformat": 4,
 "nbformat_minor": 5
}
